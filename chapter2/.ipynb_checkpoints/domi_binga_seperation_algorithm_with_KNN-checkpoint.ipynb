{
 "cells": [
  {
   "cell_type": "code",
   "execution_count": 19,
   "id": "3f2f0697",
   "metadata": {},
   "outputs": [
    {
     "name": "stdout",
     "output_type": "stream",
     "text": [
      "fish_length 와 fish_weight가 잘 연결되었는지 확인 : \n",
      " [[ 25.4 242. ]\n",
      " [ 26.3 290. ]\n",
      " [ 26.5 340. ]\n",
      " [ 29.  363. ]\n",
      " [ 29.  430. ]] \n",
      "\n",
      "\n",
      "타깃 데이터가 잘 생성되었는지 확인 : \n",
      " [1. 1. 1. 1. 1. 1. 1. 1. 1. 1. 1. 1. 1. 1. 1. 1. 1. 1. 1. 1. 1. 1. 1. 1.\n",
      " 1. 1. 1. 1. 1. 1. 1. 1. 1. 1. 1. 0. 0. 0. 0. 0. 0. 0. 0. 0. 0. 0. 0. 0.\n",
      " 0.] \n",
      "\n",
      "\n",
      "입력 데이터 크기 확인 : \n",
      " (36, 2) (13, 2) \n",
      "\n",
      "\n",
      "타깃 데이터 크기 확인 : \n",
      " (36,) (13,) \n",
      "\n",
      "\n",
      "도미와 빙어가 잘 섞였는지 테스트 데이터 : \n",
      " [0. 0. 1. 0. 1. 0. 1. 1. 1. 1. 1. 1. 1.] \n",
      "\n",
      "\n"
     ]
    }
   ],
   "source": [
    "import numpy as np\n",
    "from sklearn.model_selection import train_test_split\n",
    "\n",
    "fish_length = [25.4, 26.3, 26.5, 29.0, 29.0, 29.7, 29.7, 30.0, 30.0, 30.7, 31.0, 31.0, \n",
    "                31.5, 32.0, 32.0, 32.0, 33.0, 33.0, 33.5, 33.5, 34.0, 34.0, 34.5, 35.0, \n",
    "                35.0, 35.0, 35.0, 36.0, 36.0, 37.0, 38.5, 38.5, 39.5, 41.0, 41.0, 9.8, \n",
    "                10.5, 10.6, 11.0, 11.2, 11.3, 11.8, 11.8, 12.0, 12.2, 12.4, 13.0, 14.3, 15.0]\n",
    "fish_weight = [242.0, 290.0, 340.0, 363.0, 430.0, 450.0, 500.0, 390.0, 450.0, 500.0, 475.0, 500.0, \n",
    "                500.0, 340.0, 600.0, 600.0, 700.0, 700.0, 610.0, 650.0, 575.0, 685.0, 620.0, 680.0, \n",
    "                700.0, 725.0, 720.0, 714.0, 850.0, 1000.0, 920.0, 955.0, 925.0, 975.0, 950.0, 6.7, \n",
    "                7.5, 7.0, 9.7, 9.8, 8.7, 10.0, 9.9, 9.8, 12.2, 13.4, 12.2, 19.7, 19.9]\n",
    "\n",
    "fish_data = np.column_stack((fish_length, fish_weight))\n",
    "\n",
    "# fish_length 하고 fish_weight가 잘 연결되었는지 처음 5개 데이터로 확인\n",
    "print(\"fish_length 와 fish_weight가 잘 연결되었는지 확인 : \\n\",fish_data[:5], \"\\n\\n\")\n",
    "\n",
    "# np.ones, np.zeros, np.concatenate 함수를 사용해서 타깃 데이터 생성\n",
    "fish_target = np.concatenate((np.ones(35), np.zeros(14)))\n",
    "print(\"타깃 데이터가 잘 생성되었는지 확인 : \\n\",fish_target,\"\\n\\n\")\n",
    "\n",
    "# 훈련 세트와 테스트 세트 분류\n",
    "train_input, test_input, train_target, test_target = train_test_split(fish_data, fish_target,\n",
    "                                                                      stratify = fish_target,\n",
    "                                                                      random_state = 42)\n",
    "\n",
    "# 잘 나뉘었는지 넘파이 배열의 shape 속성으로 입력, 타깃 데이터 크기 출력\n",
    "print(\"입력 데이터 크기 확인 : \\n\",train_input.shape, test_input.shape, \"\\n\\n\")\n",
    "print(\"타깃 데이터 크기 확인 : \\n\",train_target.shape, test_target.shape, \"\\n\\n\")\n",
    "\n",
    "# 도미와 빙어가 잘 섞였는지 테스트 데이터 출력\n",
    "print(\"도미와 빙어가 잘 섞였는지 테스트 데이터 : \\n\",test_target, \"\\n\\n\")"
   ]
  }
 ],
 "metadata": {
  "kernelspec": {
   "display_name": "Python 3 (ipykernel)",
   "language": "python",
   "name": "python3"
  },
  "language_info": {
   "codemirror_mode": {
    "name": "ipython",
    "version": 3
   },
   "file_extension": ".py",
   "mimetype": "text/x-python",
   "name": "python",
   "nbconvert_exporter": "python",
   "pygments_lexer": "ipython3",
   "version": "3.11.7"
  }
 },
 "nbformat": 4,
 "nbformat_minor": 5
}
